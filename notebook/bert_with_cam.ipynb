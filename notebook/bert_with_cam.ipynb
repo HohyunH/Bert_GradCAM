{
  "nbformat": 4,
  "nbformat_minor": 0,
  "metadata": {
    "colab": {
      "name": "Untitled2.ipynb",
      "provenance": []
    },
    "kernelspec": {
      "name": "python3",
      "display_name": "Python 3"
    },
    "language_info": {
      "name": "python"
    }
  },
  "cells": [
    {
      "cell_type": "code",
      "metadata": {
        "id": "xTySw_FY04nn",
        "colab": {
          "base_uri": "https://localhost:8080/"
        },
        "outputId": "2de1aa4e-e116-45aa-d0bd-4324a86f1821"
      },
      "source": [
        "from google.colab import drive\n",
        "drive.mount('/content/drive')"
      ],
      "execution_count": null,
      "outputs": [
        {
          "output_type": "stream",
          "name": "stdout",
          "text": [
            "Mounted at /content/drive\n"
          ]
        }
      ]
    },
    {
      "cell_type": "code",
      "metadata": {
        "colab": {
          "base_uri": "https://localhost:8080/"
        },
        "id": "NvyxWgJNNa8B",
        "outputId": "ba82c33a-b147-42f0-bd50-22e11a6782b2"
      },
      "source": [
        "!pip install transformers"
      ],
      "execution_count": null,
      "outputs": [
        {
          "output_type": "stream",
          "name": "stdout",
          "text": [
            "Collecting transformers\n",
            "  Downloading transformers-4.11.3-py3-none-any.whl (2.9 MB)\n",
            "\u001b[K     |████████████████████████████████| 2.9 MB 8.0 MB/s \n",
            "\u001b[?25hRequirement already satisfied: regex!=2019.12.17 in /usr/local/lib/python3.7/dist-packages (from transformers) (2019.12.20)\n",
            "Collecting pyyaml>=5.1\n",
            "  Downloading PyYAML-6.0-cp37-cp37m-manylinux_2_5_x86_64.manylinux1_x86_64.manylinux_2_12_x86_64.manylinux2010_x86_64.whl (596 kB)\n",
            "\u001b[K     |████████████████████████████████| 596 kB 64.8 MB/s \n",
            "\u001b[?25hRequirement already satisfied: filelock in /usr/local/lib/python3.7/dist-packages (from transformers) (3.3.0)\n",
            "Requirement already satisfied: packaging>=20.0 in /usr/local/lib/python3.7/dist-packages (from transformers) (21.0)\n",
            "Collecting tokenizers<0.11,>=0.10.1\n",
            "  Downloading tokenizers-0.10.3-cp37-cp37m-manylinux_2_5_x86_64.manylinux1_x86_64.manylinux_2_12_x86_64.manylinux2010_x86_64.whl (3.3 MB)\n",
            "\u001b[K     |████████████████████████████████| 3.3 MB 59.0 MB/s \n",
            "\u001b[?25hRequirement already satisfied: numpy>=1.17 in /usr/local/lib/python3.7/dist-packages (from transformers) (1.19.5)\n",
            "Requirement already satisfied: importlib-metadata in /usr/local/lib/python3.7/dist-packages (from transformers) (4.8.1)\n",
            "Collecting sacremoses\n",
            "  Downloading sacremoses-0.0.46-py3-none-any.whl (895 kB)\n",
            "\u001b[K     |████████████████████████████████| 895 kB 76.9 MB/s \n",
            "\u001b[?25hCollecting huggingface-hub>=0.0.17\n",
            "  Downloading huggingface_hub-0.0.19-py3-none-any.whl (56 kB)\n",
            "\u001b[K     |████████████████████████████████| 56 kB 6.3 MB/s \n",
            "\u001b[?25hRequirement already satisfied: requests in /usr/local/lib/python3.7/dist-packages (from transformers) (2.23.0)\n",
            "Requirement already satisfied: tqdm>=4.27 in /usr/local/lib/python3.7/dist-packages (from transformers) (4.62.3)\n",
            "Requirement already satisfied: typing-extensions in /usr/local/lib/python3.7/dist-packages (from huggingface-hub>=0.0.17->transformers) (3.7.4.3)\n",
            "Requirement already satisfied: pyparsing>=2.0.2 in /usr/local/lib/python3.7/dist-packages (from packaging>=20.0->transformers) (2.4.7)\n",
            "Requirement already satisfied: zipp>=0.5 in /usr/local/lib/python3.7/dist-packages (from importlib-metadata->transformers) (3.6.0)\n",
            "Requirement already satisfied: certifi>=2017.4.17 in /usr/local/lib/python3.7/dist-packages (from requests->transformers) (2021.5.30)\n",
            "Requirement already satisfied: urllib3!=1.25.0,!=1.25.1,<1.26,>=1.21.1 in /usr/local/lib/python3.7/dist-packages (from requests->transformers) (1.24.3)\n",
            "Requirement already satisfied: chardet<4,>=3.0.2 in /usr/local/lib/python3.7/dist-packages (from requests->transformers) (3.0.4)\n",
            "Requirement already satisfied: idna<3,>=2.5 in /usr/local/lib/python3.7/dist-packages (from requests->transformers) (2.10)\n",
            "Requirement already satisfied: joblib in /usr/local/lib/python3.7/dist-packages (from sacremoses->transformers) (1.0.1)\n",
            "Requirement already satisfied: six in /usr/local/lib/python3.7/dist-packages (from sacremoses->transformers) (1.15.0)\n",
            "Requirement already satisfied: click in /usr/local/lib/python3.7/dist-packages (from sacremoses->transformers) (7.1.2)\n",
            "Installing collected packages: pyyaml, tokenizers, sacremoses, huggingface-hub, transformers\n",
            "  Attempting uninstall: pyyaml\n",
            "    Found existing installation: PyYAML 3.13\n",
            "    Uninstalling PyYAML-3.13:\n",
            "      Successfully uninstalled PyYAML-3.13\n",
            "Successfully installed huggingface-hub-0.0.19 pyyaml-6.0 sacremoses-0.0.46 tokenizers-0.10.3 transformers-4.11.3\n"
          ]
        }
      ]
    },
    {
      "cell_type": "markdown",
      "metadata": {
        "id": "K2rjTqMf-XUb"
      },
      "source": [
        "### 라이브러리 다운로드"
      ]
    },
    {
      "cell_type": "code",
      "metadata": {
        "colab": {
          "base_uri": "https://localhost:8080/"
        },
        "id": "KBvTSERNjiqK",
        "outputId": "e228ed00-2988-4cd5-cc08-65205965e333"
      },
      "source": [
        "import torch\n",
        "import torch.nn as nn\n",
        "import torch.optim as optim\n",
        "import torch.nn.functional as F\n",
        "from torch.utils.data import Dataset, DataLoader\n",
        "\n",
        "import cv2\n",
        "from transformers import BertTokenizer, BertModel\n",
        "\n",
        "import re\n",
        "import os\n",
        "import time\n",
        "import math\n",
        "import random\n",
        "import numpy as np\n",
        "import pandas as pd\n",
        "import seaborn as sns\n",
        "sns.set()\n",
        "\n",
        "import scipy.stats as ss\n",
        "import matplotlib.pyplot as plt\n",
        "from tqdm import tqdm, tqdm_notebook\n",
        "\n",
        "import nltk\n",
        "from nltk.tokenize import word_tokenize, sent_tokenize\n",
        "nltk.download('punkt')"
      ],
      "execution_count": null,
      "outputs": [
        {
          "output_type": "stream",
          "name": "stdout",
          "text": [
            "[nltk_data] Downloading package punkt to /root/nltk_data...\n",
            "[nltk_data]   Unzipping tokenizers/punkt.zip.\n"
          ]
        },
        {
          "output_type": "execute_result",
          "data": {
            "text/plain": [
              "True"
            ]
          },
          "metadata": {},
          "execution_count": 3
        }
      ]
    },
    {
      "cell_type": "markdown",
      "metadata": {
        "id": "IPt8BfAD-bqQ"
      },
      "source": [
        "## Data setting"
      ]
    },
    {
      "cell_type": "code",
      "metadata": {
        "id": "Uaf4je3hKHal"
      },
      "source": [
        "torch.manual_seed(777)\n",
        "random.seed(777)\n",
        "np.random.seed(777)\n",
        "\n",
        "class_num = 300\n",
        "\n",
        "def class_same(train_df, class_num):\n",
        "  zero_df = train_df[train_df['label']==0][:class_num]\n",
        "  one_df = train_df[train_df['label']==1][:class_num]\n",
        "  total_df = pd.concat([zero_df, one_df])\n",
        "  total_df = total_df.sample(frac=1).reset_index(drop=True)\n",
        "  \n",
        "  return total_df\n",
        "\n",
        "def test_split(id, test_df):\n",
        "  split_df = test_df[id*1000:(id+1)*1000]\n",
        "  return split_df\n",
        "\n",
        "yelp = pd.read_csv('/content/drive/My Drive/datasets/yelp.csv')\n",
        "yelp['label'] = yelp['rating']-1\n",
        "del yelp['rating']\n",
        "\n",
        "train_df = yelp[:1000]\n",
        "test_df = yelp[1000:-1000]\n",
        "val_df = yelp[-1000:]\n",
        "\n",
        "train_df = class_same(train_df, class_num)\n",
        "test_df_1 = test_df[:10000]\n",
        "\n",
        "title_order = [\"NEG\",\"POS\"]\n",
        "\n",
        "# total_tokens = [word_tokenize(sentence) for sentence in tqdm(yelp['review'])]"
      ],
      "execution_count": null,
      "outputs": []
    },
    {
      "cell_type": "code",
      "metadata": {
        "id": "rmVV2XlWL2Is",
        "colab": {
          "base_uri": "https://localhost:8080/",
          "height": 145,
          "referenced_widgets": [
            "0b3190b1b9334d9dad1e8b9e5dbe17ff",
            "0907921b5c084affac69324a80a1438c",
            "cdf2261977a34a06b91f79d561709c96",
            "08cdf81d73d6476ba60d44c4ad49b2a4",
            "297e19945dda4868b9a65456da6e5add",
            "7afab145a4ea4dd69f9430c4ed358479",
            "8db7055cda1b4febbe2646528d00830c",
            "a2024433f73b4bb793a5cfeff36f5904",
            "01207b6d9cfd4231b6fd3933f6e7ed66",
            "b62d433caac3486b948701abe6d2e7b5",
            "5bb003102d674497a1a81fce2ed4c5e0",
            "ffc5485982ac496b96ef873d69ceeb83",
            "182b8f3aba304a7baba6ab1296a08a56",
            "d2d5d2ac585040f48a8a6316373e0892",
            "e13e1bab79174b58b0688dfae56027c0",
            "1b502c5bf18e44818f78c03214abdb9a",
            "91d350442d7245638b517845a2f5750b",
            "2e76df3fda1f49739e19eb9001379ec8",
            "27b85f4c78464b68bdb38a8aeafdcf8b",
            "7b1a9378e2934428a5d06ead9c3d1229",
            "cd6488a7937b4e2887d4d18d06ad39a4",
            "dc78c511db1948248cc0fafed856b2a6",
            "cf77c936bcf041f7af1d6550fc35c8dd",
            "f2479c7c08734a8ab441e129ba983763",
            "891d9814b11a4af8949101569232feea",
            "83134c7a5402450aab1726348d398e3e",
            "c3b74188f5e142a68b343987735b699d",
            "b9ed5bcc2f7a4386a00d3f720712e542",
            "627c7ed5970d421b92eb9f8ed23c1bca",
            "b4d374f13adb474398e887ed27343efe",
            "42c2226154c340dab0b3da5107ff5d96",
            "0cfa6fc736a24d76bf5560576f22b53a",
            "135068ae033148b0a8db669c523f28f5",
            "6b5ae3160b104e64abee033d5931d697",
            "eb10040257d0480db383ab51ce3425a8",
            "1cb70b6b403244e0a2297eb2c8c8b136",
            "5eec68a2c3554be796fbd9a8cc7cb258",
            "1962d2b7b4324bcda74db06c411c5b9f",
            "3b65285a915f437186781003dcc2bb4c",
            "d513ba38ec374faa85af1158dc9eda1b",
            "e734b39998b64c1bb292739d6bc613f0",
            "d68a4ae347084593a8ac61d2e09bb627",
            "ac0642ebe76e42cf8fec8620cafdc756",
            "d5ec9e4be7784f38967ce8fc92780e73"
          ]
        },
        "outputId": "313b6a16-0c57-4f5e-8ff3-3add9655ca95"
      },
      "source": [
        "# model = BertModel.from_pretrained('bert-base-uncased')\n",
        "tokenizer = BertTokenizer.from_pretrained('bert-base-uncased')\n",
        "vocab = list(tokenizer.vocab.keys())\n",
        "word_dict = dict(tokenizer.vocab.items())\n",
        "\n",
        "# 1. 모든 sentence에 CLS, SEP 붙인다.\n",
        "def get_token(text):\n",
        "    text = \"[CLS] \" + \" [SEP] \".join(sent_tokenize(text)) + \" [SEP]\"\n",
        "    tokenized_text = tokenizer.tokenize(text)\n",
        "    return tokenized_text\n",
        "\n",
        "# 2. token index로 변환, padding 한다.\n",
        "def get_ids(tokenized_text, max_length):\n",
        "    indexed_tokens = tokenizer.convert_tokens_to_ids(tokenized_text)\n",
        "    if len(indexed_tokens) < max_length:\n",
        "      input_ids = indexed_tokens + [0]*(max_length - len(indexed_tokens))\n",
        "    else:\n",
        "      input_ids = indexed_tokens[:max_length]\n",
        "    \n",
        "    return input_ids\n",
        "\n",
        "# 3. segment_ids를 만든다.\n",
        "def get_mask(input_ids):\n",
        "    # Create attention masks\n",
        "    attention_masks = []\n",
        "    # Create a mask of 1s for each token followed by 0s for padding\n",
        "    for seq in input_ids:\n",
        "        seq_mask = [float(i>0) for i in seq]\n",
        "        attention_masks.append(seq_mask)\n",
        "    return attention_masks"
      ],
      "execution_count": null,
      "outputs": [
        {
          "output_type": "display_data",
          "data": {
            "application/vnd.jupyter.widget-view+json": {
              "model_id": "0b3190b1b9334d9dad1e8b9e5dbe17ff",
              "version_minor": 0,
              "version_major": 2
            },
            "text/plain": [
              "Downloading:   0%|          | 0.00/226k [00:00<?, ?B/s]"
            ]
          },
          "metadata": {}
        },
        {
          "output_type": "display_data",
          "data": {
            "application/vnd.jupyter.widget-view+json": {
              "model_id": "ffc5485982ac496b96ef873d69ceeb83",
              "version_minor": 0,
              "version_major": 2
            },
            "text/plain": [
              "Downloading:   0%|          | 0.00/28.0 [00:00<?, ?B/s]"
            ]
          },
          "metadata": {}
        },
        {
          "output_type": "display_data",
          "data": {
            "application/vnd.jupyter.widget-view+json": {
              "model_id": "cf77c936bcf041f7af1d6550fc35c8dd",
              "version_minor": 0,
              "version_major": 2
            },
            "text/plain": [
              "Downloading:   0%|          | 0.00/455k [00:00<?, ?B/s]"
            ]
          },
          "metadata": {}
        },
        {
          "output_type": "display_data",
          "data": {
            "application/vnd.jupyter.widget-view+json": {
              "model_id": "6b5ae3160b104e64abee033d5931d697",
              "version_minor": 0,
              "version_major": 2
            },
            "text/plain": [
              "Downloading:   0%|          | 0.00/570 [00:00<?, ?B/s]"
            ]
          },
          "metadata": {}
        }
      ]
    },
    {
      "cell_type": "code",
      "metadata": {
        "id": "PpzS08cJd7q7"
      },
      "source": [
        "class BERT_CNN(Dataset):\n",
        "    def __init__(self, df):\n",
        "\n",
        "        def data_setting(df, max_len):\n",
        "\n",
        "            #[CLS] [SEP] 붙임, token 변환\n",
        "            description = list(df[\"review\"])\n",
        "            descriptions = [get_token(x) for x in description]\n",
        "            description = [''.join(d) for d in descriptions]\n",
        "            #max_len\n",
        "            max_len=max_len      \n",
        "            \n",
        "            #convert Id + padding\n",
        "            input_ids = [get_ids(x,max_len) for x in descriptions]\n",
        "            \n",
        "            #Attention_masks\n",
        "            attention_masks = []\n",
        "            attention_masks = get_mask(input_ids)\n",
        "            \n",
        "            #labels\n",
        "            target = list(df['label'])\n",
        "            \n",
        "            # class수\n",
        "            num_classes=len(df['label'].unique())\n",
        "            \n",
        "            return input_ids, target,  attention_masks, description\n",
        "\n",
        "        input_ids, input_labels, attention_masks, description = data_setting(df, 512)\n",
        "\n",
        "        self.reviews = description\n",
        "        self.inputs = input_ids\n",
        "        self.labels = input_labels\n",
        "        self.masks = attention_masks\n",
        "\n",
        "    def __len__(self):\n",
        "        return len(self.reviews)\n",
        "\n",
        "    def __getitem__(self, idx):\n",
        "\n",
        "        text = torch.tensor(self.inputs[idx])\n",
        "        label = self.labels[idx]\n",
        "        review = self.reviews[idx]\n",
        "        mask = torch.LongTensor(self.masks[idx])\n",
        "\n",
        "        return text, label, mask, review"
      ],
      "execution_count": null,
      "outputs": []
    },
    {
      "cell_type": "code",
      "metadata": {
        "id": "xKZJw-jrb740"
      },
      "source": [
        "train_data = BERT_CNN(train_df)\n",
        "train_loader = DataLoader(train_data, batch_size=2, num_workers=2, shuffle=True)\n",
        "\n",
        "test_data = BERT_CNN(test_df_1)\n",
        "test_loader = DataLoader(test_data, batch_size=2, num_workers=2, shuffle=False)\n",
        "\n",
        "val_data = BERT_CNN(val_df)\n",
        "val_loader = DataLoader(val_data, batch_size=2, num_workers=2, shuffle=False)"
      ],
      "execution_count": null,
      "outputs": []
    },
    {
      "cell_type": "code",
      "metadata": {
        "colab": {
          "base_uri": "https://localhost:8080/"
        },
        "id": "uj6fA1lHiw3Y",
        "outputId": "427792a1-295f-46fc-feec-6fca1a599f15"
      },
      "source": [
        "device = torch.device('cuda' if torch.cuda.is_available() else 'cpu')\n",
        "print('Available devices ', torch.cuda.device_count())"
      ],
      "execution_count": null,
      "outputs": [
        {
          "output_type": "stream",
          "name": "stdout",
          "text": [
            "Available devices  1\n"
          ]
        }
      ]
    },
    {
      "cell_type": "code",
      "metadata": {
        "id": "SK_YVaB4jTv9"
      },
      "source": [
        "class Net(nn.Module):\n",
        "    '''\n",
        "        encoded_layer : [layer, batch, sentence_len, embed_dim] # Bert 12-layer 결과중 하나 선택.\n",
        "                        Conv1d 의 input로 들어가기 위해, [batch,sentence_len, embed_dim].unsqueeze(1)\n",
        "                                                     => [batch, 1, sentence_len, embed_dim ]\n",
        "        \n",
        "        Conv1d input shape : 3D or 4D\n",
        "        (sentence x embedding_dim) : 138 x 768 => (kernel_size = (3,768), padding=1)\n",
        "                                     138 x 1 로 변환, padding로 인해 138유지.\n",
        "                                     \n",
        "        1짜리 차원 x.squeeze(3)    : [batch, 16, 138 , 1] =>  [batch, 16 , 138]\n",
        "                                 \n",
        "        \n",
        "        Conv1d input : [batch, 1(number of channel) , sentence_len, emb_dim]\n",
        "        Conv1d ouput : [batch, out_channel_num , sentence_len, emb_dim]\n",
        "        \n",
        "        [batch, out_channel_num , sentence_len, emb_dim].squeeze(3) \n",
        "        => [batch, out_channel_num , sentence_len] \n",
        "    '''\n",
        "    def __init__(self, num_classes):\n",
        "        super(Net,self).__init__()\n",
        "        self.bert =  BertModel.from_pretrained('bert-base-uncased')\n",
        "        self.conv1 = nn.Conv1d(1,16,kernel_size=(3,768))\n",
        "        \n",
        "        self.cnn = nn.Sequential(\n",
        "            nn.LeakyReLU(),\n",
        "            nn.Conv1d(16,16,kernel_size=(3),padding=1),\n",
        "            nn.LeakyReLU(),\n",
        "            nn.BatchNorm1d(16), \n",
        "            nn.MaxPool1d(2), \n",
        "            \n",
        "            nn.Conv1d(16,32,kernel_size=(3),padding=1),\n",
        "            nn.LeakyReLU(),\n",
        "            nn.Conv1d(32,32,kernel_size=(3),padding=1),\n",
        "            nn.LeakyReLU(),\n",
        "            nn.BatchNorm1d(32),\n",
        "            nn.MaxPool1d(2),\n",
        "            \n",
        "            nn.Conv1d(32,64,kernel_size=(3),padding=1),\n",
        "            nn.LeakyReLU(),\n",
        "            nn.Conv1d(64,64,kernel_size=(3),padding=1),\n",
        "            nn.LeakyReLU(),\n",
        "            nn.BatchNorm1d(64),\n",
        "            nn.MaxPool1d(2),\n",
        "            \n",
        "            nn.Conv1d(64,128,kernel_size=(3),padding=1),\n",
        "            nn.LeakyReLU(),\n",
        "            nn.Conv1d(128,128,kernel_size=(3),padding=1),\n",
        "            nn.LeakyReLU(),\n",
        "            nn.BatchNorm1d(128),\n",
        "            nn.MaxPool1d(2),\n",
        "        )\n",
        "        self.classifier = nn.Sequential(\n",
        "            nn.Linear(1 * 31*128, 160), # width * height * channel_num \n",
        "            nn.Linear(160, num_classes)\n",
        "        )\n",
        "        self.relu = nn.LeakyReLU()\n",
        "    def forward(self, inputs, masks):\n",
        "        with torch.no_grad():\n",
        "            encoded_layer = self.bert(inputs, masks)[0]\n",
        "        encoded_layer = encoded_layer.unsqueeze(1)\n",
        "        x = self.conv1(encoded_layer) \n",
        "        x = x.squeeze(3)\n",
        "        x = self.cnn(x)\n",
        "        x = x.view(-1,128*31)\n",
        "        x = self.classifier(x)\n",
        "        return x"
      ],
      "execution_count": null,
      "outputs": []
    },
    {
      "cell_type": "code",
      "metadata": {
        "colab": {
          "base_uri": "https://localhost:8080/",
          "height": 123,
          "referenced_widgets": [
            "e9d40e1d43984fb5ac2b00ad2e57e291",
            "e376177e04c744fd9e2f2eb9efd2e634",
            "0fe4638933de473e9b73530b9133c5d7",
            "65bde4a30b11482aaaec4cc59ae05afa",
            "3052f3cc4c574587b6ba4ec76ee268e2",
            "f1a1628570e74418a0386be63da5824f",
            "9604d8059c8646428a1deb118806b261",
            "89ce83c8e1444ad8b44e6e6ab30b25bb",
            "d465eba0cfc84ccb99d54a3ff20810c9",
            "a5ef80b9a1144639a8b10a831bc3ff40",
            "3cd6940dcb8c40178441e8a728e560bb"
          ]
        },
        "id": "-h5dyOUmesN9",
        "outputId": "c0a5a67a-e22e-46e3-8c99-b57665e8e337"
      },
      "source": [
        "network = Net(len(train_df.label.unique()))\n",
        "\n",
        "if torch.cuda.device_count() > 1:\n",
        "    network = nn.DataParallel(network).to(device)\n",
        "else:\n",
        "    network = network.to(device)\n",
        "#network.load_state_dict(torch.load('./save_model/variety_model.ckpt'))\n",
        "criterion = nn.CrossEntropyLoss().to(device)\n",
        "optimizer = torch.optim.Adam(network.parameters(), lr = 1e-3)"
      ],
      "execution_count": null,
      "outputs": [
        {
          "output_type": "display_data",
          "data": {
            "application/vnd.jupyter.widget-view+json": {
              "model_id": "e9d40e1d43984fb5ac2b00ad2e57e291",
              "version_minor": 0,
              "version_major": 2
            },
            "text/plain": [
              "Downloading:   0%|          | 0.00/420M [00:00<?, ?B/s]"
            ]
          },
          "metadata": {}
        },
        {
          "output_type": "stream",
          "name": "stderr",
          "text": [
            "Some weights of the model checkpoint at bert-base-uncased were not used when initializing BertModel: ['cls.predictions.transform.LayerNorm.weight', 'cls.seq_relationship.bias', 'cls.predictions.bias', 'cls.predictions.transform.LayerNorm.bias', 'cls.predictions.transform.dense.bias', 'cls.predictions.transform.dense.weight', 'cls.predictions.decoder.weight', 'cls.seq_relationship.weight']\n",
            "- This IS expected if you are initializing BertModel from the checkpoint of a model trained on another task or with another architecture (e.g. initializing a BertForSequenceClassification model from a BertForPreTraining model).\n",
            "- This IS NOT expected if you are initializing BertModel from the checkpoint of a model that you expect to be exactly identical (initializing a BertForSequenceClassification model from a BertForSequenceClassification model).\n"
          ]
        }
      ]
    },
    {
      "cell_type": "code",
      "metadata": {
        "colab": {
          "base_uri": "https://localhost:8080/"
        },
        "id": "R6-HVGoS_8It",
        "outputId": "fce1dec2-1261-462d-9052-1b5f513e9ab0"
      },
      "source": [
        "network"
      ],
      "execution_count": null,
      "outputs": [
        {
          "output_type": "execute_result",
          "data": {
            "text/plain": [
              "Net(\n",
              "  (bert): BertModel(\n",
              "    (embeddings): BertEmbeddings(\n",
              "      (word_embeddings): Embedding(30522, 768, padding_idx=0)\n",
              "      (position_embeddings): Embedding(512, 768)\n",
              "      (token_type_embeddings): Embedding(2, 768)\n",
              "      (LayerNorm): LayerNorm((768,), eps=1e-12, elementwise_affine=True)\n",
              "      (dropout): Dropout(p=0.1, inplace=False)\n",
              "    )\n",
              "    (encoder): BertEncoder(\n",
              "      (layer): ModuleList(\n",
              "        (0): BertLayer(\n",
              "          (attention): BertAttention(\n",
              "            (self): BertSelfAttention(\n",
              "              (query): Linear(in_features=768, out_features=768, bias=True)\n",
              "              (key): Linear(in_features=768, out_features=768, bias=True)\n",
              "              (value): Linear(in_features=768, out_features=768, bias=True)\n",
              "              (dropout): Dropout(p=0.1, inplace=False)\n",
              "            )\n",
              "            (output): BertSelfOutput(\n",
              "              (dense): Linear(in_features=768, out_features=768, bias=True)\n",
              "              (LayerNorm): LayerNorm((768,), eps=1e-12, elementwise_affine=True)\n",
              "              (dropout): Dropout(p=0.1, inplace=False)\n",
              "            )\n",
              "          )\n",
              "          (intermediate): BertIntermediate(\n",
              "            (dense): Linear(in_features=768, out_features=3072, bias=True)\n",
              "          )\n",
              "          (output): BertOutput(\n",
              "            (dense): Linear(in_features=3072, out_features=768, bias=True)\n",
              "            (LayerNorm): LayerNorm((768,), eps=1e-12, elementwise_affine=True)\n",
              "            (dropout): Dropout(p=0.1, inplace=False)\n",
              "          )\n",
              "        )\n",
              "        (1): BertLayer(\n",
              "          (attention): BertAttention(\n",
              "            (self): BertSelfAttention(\n",
              "              (query): Linear(in_features=768, out_features=768, bias=True)\n",
              "              (key): Linear(in_features=768, out_features=768, bias=True)\n",
              "              (value): Linear(in_features=768, out_features=768, bias=True)\n",
              "              (dropout): Dropout(p=0.1, inplace=False)\n",
              "            )\n",
              "            (output): BertSelfOutput(\n",
              "              (dense): Linear(in_features=768, out_features=768, bias=True)\n",
              "              (LayerNorm): LayerNorm((768,), eps=1e-12, elementwise_affine=True)\n",
              "              (dropout): Dropout(p=0.1, inplace=False)\n",
              "            )\n",
              "          )\n",
              "          (intermediate): BertIntermediate(\n",
              "            (dense): Linear(in_features=768, out_features=3072, bias=True)\n",
              "          )\n",
              "          (output): BertOutput(\n",
              "            (dense): Linear(in_features=3072, out_features=768, bias=True)\n",
              "            (LayerNorm): LayerNorm((768,), eps=1e-12, elementwise_affine=True)\n",
              "            (dropout): Dropout(p=0.1, inplace=False)\n",
              "          )\n",
              "        )\n",
              "        (2): BertLayer(\n",
              "          (attention): BertAttention(\n",
              "            (self): BertSelfAttention(\n",
              "              (query): Linear(in_features=768, out_features=768, bias=True)\n",
              "              (key): Linear(in_features=768, out_features=768, bias=True)\n",
              "              (value): Linear(in_features=768, out_features=768, bias=True)\n",
              "              (dropout): Dropout(p=0.1, inplace=False)\n",
              "            )\n",
              "            (output): BertSelfOutput(\n",
              "              (dense): Linear(in_features=768, out_features=768, bias=True)\n",
              "              (LayerNorm): LayerNorm((768,), eps=1e-12, elementwise_affine=True)\n",
              "              (dropout): Dropout(p=0.1, inplace=False)\n",
              "            )\n",
              "          )\n",
              "          (intermediate): BertIntermediate(\n",
              "            (dense): Linear(in_features=768, out_features=3072, bias=True)\n",
              "          )\n",
              "          (output): BertOutput(\n",
              "            (dense): Linear(in_features=3072, out_features=768, bias=True)\n",
              "            (LayerNorm): LayerNorm((768,), eps=1e-12, elementwise_affine=True)\n",
              "            (dropout): Dropout(p=0.1, inplace=False)\n",
              "          )\n",
              "        )\n",
              "        (3): BertLayer(\n",
              "          (attention): BertAttention(\n",
              "            (self): BertSelfAttention(\n",
              "              (query): Linear(in_features=768, out_features=768, bias=True)\n",
              "              (key): Linear(in_features=768, out_features=768, bias=True)\n",
              "              (value): Linear(in_features=768, out_features=768, bias=True)\n",
              "              (dropout): Dropout(p=0.1, inplace=False)\n",
              "            )\n",
              "            (output): BertSelfOutput(\n",
              "              (dense): Linear(in_features=768, out_features=768, bias=True)\n",
              "              (LayerNorm): LayerNorm((768,), eps=1e-12, elementwise_affine=True)\n",
              "              (dropout): Dropout(p=0.1, inplace=False)\n",
              "            )\n",
              "          )\n",
              "          (intermediate): BertIntermediate(\n",
              "            (dense): Linear(in_features=768, out_features=3072, bias=True)\n",
              "          )\n",
              "          (output): BertOutput(\n",
              "            (dense): Linear(in_features=3072, out_features=768, bias=True)\n",
              "            (LayerNorm): LayerNorm((768,), eps=1e-12, elementwise_affine=True)\n",
              "            (dropout): Dropout(p=0.1, inplace=False)\n",
              "          )\n",
              "        )\n",
              "        (4): BertLayer(\n",
              "          (attention): BertAttention(\n",
              "            (self): BertSelfAttention(\n",
              "              (query): Linear(in_features=768, out_features=768, bias=True)\n",
              "              (key): Linear(in_features=768, out_features=768, bias=True)\n",
              "              (value): Linear(in_features=768, out_features=768, bias=True)\n",
              "              (dropout): Dropout(p=0.1, inplace=False)\n",
              "            )\n",
              "            (output): BertSelfOutput(\n",
              "              (dense): Linear(in_features=768, out_features=768, bias=True)\n",
              "              (LayerNorm): LayerNorm((768,), eps=1e-12, elementwise_affine=True)\n",
              "              (dropout): Dropout(p=0.1, inplace=False)\n",
              "            )\n",
              "          )\n",
              "          (intermediate): BertIntermediate(\n",
              "            (dense): Linear(in_features=768, out_features=3072, bias=True)\n",
              "          )\n",
              "          (output): BertOutput(\n",
              "            (dense): Linear(in_features=3072, out_features=768, bias=True)\n",
              "            (LayerNorm): LayerNorm((768,), eps=1e-12, elementwise_affine=True)\n",
              "            (dropout): Dropout(p=0.1, inplace=False)\n",
              "          )\n",
              "        )\n",
              "        (5): BertLayer(\n",
              "          (attention): BertAttention(\n",
              "            (self): BertSelfAttention(\n",
              "              (query): Linear(in_features=768, out_features=768, bias=True)\n",
              "              (key): Linear(in_features=768, out_features=768, bias=True)\n",
              "              (value): Linear(in_features=768, out_features=768, bias=True)\n",
              "              (dropout): Dropout(p=0.1, inplace=False)\n",
              "            )\n",
              "            (output): BertSelfOutput(\n",
              "              (dense): Linear(in_features=768, out_features=768, bias=True)\n",
              "              (LayerNorm): LayerNorm((768,), eps=1e-12, elementwise_affine=True)\n",
              "              (dropout): Dropout(p=0.1, inplace=False)\n",
              "            )\n",
              "          )\n",
              "          (intermediate): BertIntermediate(\n",
              "            (dense): Linear(in_features=768, out_features=3072, bias=True)\n",
              "          )\n",
              "          (output): BertOutput(\n",
              "            (dense): Linear(in_features=3072, out_features=768, bias=True)\n",
              "            (LayerNorm): LayerNorm((768,), eps=1e-12, elementwise_affine=True)\n",
              "            (dropout): Dropout(p=0.1, inplace=False)\n",
              "          )\n",
              "        )\n",
              "        (6): BertLayer(\n",
              "          (attention): BertAttention(\n",
              "            (self): BertSelfAttention(\n",
              "              (query): Linear(in_features=768, out_features=768, bias=True)\n",
              "              (key): Linear(in_features=768, out_features=768, bias=True)\n",
              "              (value): Linear(in_features=768, out_features=768, bias=True)\n",
              "              (dropout): Dropout(p=0.1, inplace=False)\n",
              "            )\n",
              "            (output): BertSelfOutput(\n",
              "              (dense): Linear(in_features=768, out_features=768, bias=True)\n",
              "              (LayerNorm): LayerNorm((768,), eps=1e-12, elementwise_affine=True)\n",
              "              (dropout): Dropout(p=0.1, inplace=False)\n",
              "            )\n",
              "          )\n",
              "          (intermediate): BertIntermediate(\n",
              "            (dense): Linear(in_features=768, out_features=3072, bias=True)\n",
              "          )\n",
              "          (output): BertOutput(\n",
              "            (dense): Linear(in_features=3072, out_features=768, bias=True)\n",
              "            (LayerNorm): LayerNorm((768,), eps=1e-12, elementwise_affine=True)\n",
              "            (dropout): Dropout(p=0.1, inplace=False)\n",
              "          )\n",
              "        )\n",
              "        (7): BertLayer(\n",
              "          (attention): BertAttention(\n",
              "            (self): BertSelfAttention(\n",
              "              (query): Linear(in_features=768, out_features=768, bias=True)\n",
              "              (key): Linear(in_features=768, out_features=768, bias=True)\n",
              "              (value): Linear(in_features=768, out_features=768, bias=True)\n",
              "              (dropout): Dropout(p=0.1, inplace=False)\n",
              "            )\n",
              "            (output): BertSelfOutput(\n",
              "              (dense): Linear(in_features=768, out_features=768, bias=True)\n",
              "              (LayerNorm): LayerNorm((768,), eps=1e-12, elementwise_affine=True)\n",
              "              (dropout): Dropout(p=0.1, inplace=False)\n",
              "            )\n",
              "          )\n",
              "          (intermediate): BertIntermediate(\n",
              "            (dense): Linear(in_features=768, out_features=3072, bias=True)\n",
              "          )\n",
              "          (output): BertOutput(\n",
              "            (dense): Linear(in_features=3072, out_features=768, bias=True)\n",
              "            (LayerNorm): LayerNorm((768,), eps=1e-12, elementwise_affine=True)\n",
              "            (dropout): Dropout(p=0.1, inplace=False)\n",
              "          )\n",
              "        )\n",
              "        (8): BertLayer(\n",
              "          (attention): BertAttention(\n",
              "            (self): BertSelfAttention(\n",
              "              (query): Linear(in_features=768, out_features=768, bias=True)\n",
              "              (key): Linear(in_features=768, out_features=768, bias=True)\n",
              "              (value): Linear(in_features=768, out_features=768, bias=True)\n",
              "              (dropout): Dropout(p=0.1, inplace=False)\n",
              "            )\n",
              "            (output): BertSelfOutput(\n",
              "              (dense): Linear(in_features=768, out_features=768, bias=True)\n",
              "              (LayerNorm): LayerNorm((768,), eps=1e-12, elementwise_affine=True)\n",
              "              (dropout): Dropout(p=0.1, inplace=False)\n",
              "            )\n",
              "          )\n",
              "          (intermediate): BertIntermediate(\n",
              "            (dense): Linear(in_features=768, out_features=3072, bias=True)\n",
              "          )\n",
              "          (output): BertOutput(\n",
              "            (dense): Linear(in_features=3072, out_features=768, bias=True)\n",
              "            (LayerNorm): LayerNorm((768,), eps=1e-12, elementwise_affine=True)\n",
              "            (dropout): Dropout(p=0.1, inplace=False)\n",
              "          )\n",
              "        )\n",
              "        (9): BertLayer(\n",
              "          (attention): BertAttention(\n",
              "            (self): BertSelfAttention(\n",
              "              (query): Linear(in_features=768, out_features=768, bias=True)\n",
              "              (key): Linear(in_features=768, out_features=768, bias=True)\n",
              "              (value): Linear(in_features=768, out_features=768, bias=True)\n",
              "              (dropout): Dropout(p=0.1, inplace=False)\n",
              "            )\n",
              "            (output): BertSelfOutput(\n",
              "              (dense): Linear(in_features=768, out_features=768, bias=True)\n",
              "              (LayerNorm): LayerNorm((768,), eps=1e-12, elementwise_affine=True)\n",
              "              (dropout): Dropout(p=0.1, inplace=False)\n",
              "            )\n",
              "          )\n",
              "          (intermediate): BertIntermediate(\n",
              "            (dense): Linear(in_features=768, out_features=3072, bias=True)\n",
              "          )\n",
              "          (output): BertOutput(\n",
              "            (dense): Linear(in_features=3072, out_features=768, bias=True)\n",
              "            (LayerNorm): LayerNorm((768,), eps=1e-12, elementwise_affine=True)\n",
              "            (dropout): Dropout(p=0.1, inplace=False)\n",
              "          )\n",
              "        )\n",
              "        (10): BertLayer(\n",
              "          (attention): BertAttention(\n",
              "            (self): BertSelfAttention(\n",
              "              (query): Linear(in_features=768, out_features=768, bias=True)\n",
              "              (key): Linear(in_features=768, out_features=768, bias=True)\n",
              "              (value): Linear(in_features=768, out_features=768, bias=True)\n",
              "              (dropout): Dropout(p=0.1, inplace=False)\n",
              "            )\n",
              "            (output): BertSelfOutput(\n",
              "              (dense): Linear(in_features=768, out_features=768, bias=True)\n",
              "              (LayerNorm): LayerNorm((768,), eps=1e-12, elementwise_affine=True)\n",
              "              (dropout): Dropout(p=0.1, inplace=False)\n",
              "            )\n",
              "          )\n",
              "          (intermediate): BertIntermediate(\n",
              "            (dense): Linear(in_features=768, out_features=3072, bias=True)\n",
              "          )\n",
              "          (output): BertOutput(\n",
              "            (dense): Linear(in_features=3072, out_features=768, bias=True)\n",
              "            (LayerNorm): LayerNorm((768,), eps=1e-12, elementwise_affine=True)\n",
              "            (dropout): Dropout(p=0.1, inplace=False)\n",
              "          )\n",
              "        )\n",
              "        (11): BertLayer(\n",
              "          (attention): BertAttention(\n",
              "            (self): BertSelfAttention(\n",
              "              (query): Linear(in_features=768, out_features=768, bias=True)\n",
              "              (key): Linear(in_features=768, out_features=768, bias=True)\n",
              "              (value): Linear(in_features=768, out_features=768, bias=True)\n",
              "              (dropout): Dropout(p=0.1, inplace=False)\n",
              "            )\n",
              "            (output): BertSelfOutput(\n",
              "              (dense): Linear(in_features=768, out_features=768, bias=True)\n",
              "              (LayerNorm): LayerNorm((768,), eps=1e-12, elementwise_affine=True)\n",
              "              (dropout): Dropout(p=0.1, inplace=False)\n",
              "            )\n",
              "          )\n",
              "          (intermediate): BertIntermediate(\n",
              "            (dense): Linear(in_features=768, out_features=3072, bias=True)\n",
              "          )\n",
              "          (output): BertOutput(\n",
              "            (dense): Linear(in_features=3072, out_features=768, bias=True)\n",
              "            (LayerNorm): LayerNorm((768,), eps=1e-12, elementwise_affine=True)\n",
              "            (dropout): Dropout(p=0.1, inplace=False)\n",
              "          )\n",
              "        )\n",
              "      )\n",
              "    )\n",
              "    (pooler): BertPooler(\n",
              "      (dense): Linear(in_features=768, out_features=768, bias=True)\n",
              "      (activation): Tanh()\n",
              "    )\n",
              "  )\n",
              "  (conv1): Conv1d(1, 16, kernel_size=(3, 768), stride=(1,))\n",
              "  (cnn): Sequential(\n",
              "    (0): LeakyReLU(negative_slope=0.01)\n",
              "    (1): Conv1d(16, 16, kernel_size=(3,), stride=(1,), padding=(1,))\n",
              "    (2): LeakyReLU(negative_slope=0.01)\n",
              "    (3): BatchNorm1d(16, eps=1e-05, momentum=0.1, affine=True, track_running_stats=True)\n",
              "    (4): MaxPool1d(kernel_size=2, stride=2, padding=0, dilation=1, ceil_mode=False)\n",
              "    (5): Conv1d(16, 32, kernel_size=(3,), stride=(1,), padding=(1,))\n",
              "    (6): LeakyReLU(negative_slope=0.01)\n",
              "    (7): Conv1d(32, 32, kernel_size=(3,), stride=(1,), padding=(1,))\n",
              "    (8): LeakyReLU(negative_slope=0.01)\n",
              "    (9): BatchNorm1d(32, eps=1e-05, momentum=0.1, affine=True, track_running_stats=True)\n",
              "    (10): MaxPool1d(kernel_size=2, stride=2, padding=0, dilation=1, ceil_mode=False)\n",
              "    (11): Conv1d(32, 64, kernel_size=(3,), stride=(1,), padding=(1,))\n",
              "    (12): LeakyReLU(negative_slope=0.01)\n",
              "    (13): Conv1d(64, 64, kernel_size=(3,), stride=(1,), padding=(1,))\n",
              "    (14): LeakyReLU(negative_slope=0.01)\n",
              "    (15): BatchNorm1d(64, eps=1e-05, momentum=0.1, affine=True, track_running_stats=True)\n",
              "    (16): MaxPool1d(kernel_size=2, stride=2, padding=0, dilation=1, ceil_mode=False)\n",
              "    (17): Conv1d(64, 128, kernel_size=(3,), stride=(1,), padding=(1,))\n",
              "    (18): LeakyReLU(negative_slope=0.01)\n",
              "    (19): Conv1d(128, 128, kernel_size=(3,), stride=(1,), padding=(1,))\n",
              "    (20): LeakyReLU(negative_slope=0.01)\n",
              "    (21): BatchNorm1d(128, eps=1e-05, momentum=0.1, affine=True, track_running_stats=True)\n",
              "    (22): MaxPool1d(kernel_size=2, stride=2, padding=0, dilation=1, ceil_mode=False)\n",
              "  )\n",
              "  (classifier): Sequential(\n",
              "    (0): Linear(in_features=3968, out_features=160, bias=True)\n",
              "    (1): Linear(in_features=160, out_features=2, bias=True)\n",
              "  )\n",
              "  (relu): LeakyReLU(negative_slope=0.01)\n",
              ")"
            ]
          },
          "metadata": {},
          "execution_count": 11
        }
      ]
    },
    {
      "cell_type": "code",
      "metadata": {
        "id": "RHJ-VdGDjuJF"
      },
      "source": [
        "def main():\n",
        "  epochs = 10\n",
        "  total_loss = 0\n",
        "  total_len = 0\n",
        "  total_correct = 0\n",
        "  network.train()\n",
        "  for e in range(epochs):\n",
        "      for i, (inputs, labels, masks, _) in enumerate(train_loader):\n",
        "          inputs = inputs.to(device)\n",
        "          labels = labels.long().to(device)\n",
        "          masks = masks.to(device)\n",
        "          outputs = network(inputs, masks)\n",
        "          loss = criterion(outputs, labels)\n",
        "\n",
        "          pred = torch.argmax(F.softmax(outputs), dim=1)\n",
        "          correct = pred.eq(labels)\n",
        "          total_correct += correct.sum().item()\n",
        "          total_len += len(labels)\n",
        "\n",
        "          optimizer.zero_grad()\n",
        "          loss.backward()\n",
        "          optimizer.step()\n",
        "          \n",
        "          if (i+1) % 100 ==0:\n",
        "              print(' Epoch [{} / {}] , step [{}/ {}] Loss: {: .4f} ACC: {: .2f}'\n",
        "              .format(e +1, epochs, i+1, len(train_loader), loss.item(), total_correct/total_len))\n",
        "              total_len = 0; total_correct = 0\n",
        "              \n",
        "  # torch.save(network.state_dict(), './save_model/variety_model.ckpt')\n",
        "\n",
        "# main()"
      ],
      "execution_count": null,
      "outputs": []
    },
    {
      "cell_type": "code",
      "metadata": {
        "id": "ibWmypuC5-IN"
      },
      "source": [
        "def validation(network, val_loader, device):\n",
        "  # Test the model\n",
        "  network.eval()  # eval mode (batchnorm uses moving mean/variance instead of mini-batch mean/variance)\n",
        "\n",
        "  with torch.no_grad():\n",
        "      correct = 0\n",
        "      total = 0\n",
        "      for i, (inputs, labels, masks, _) in enumerate(val_loader):\n",
        "          tests = inputs.to(device)\n",
        "          test_labels = labels.long().to(device)\n",
        "          masks = masks.to(device)\n",
        "\n",
        "          outputs = network(tests, masks)\n",
        "          _ , predicted = torch.max(outputs.data , 1)\n",
        "\n",
        "          total += test_labels.size(0)\n",
        "          correct += (predicted == test_labels).sum().item()\n",
        "\n",
        "      print('Test Accuracy of the model {} %'.format(100* correct/total))\n",
        "\n",
        "      return correct/total"
      ],
      "execution_count": null,
      "outputs": []
    },
    {
      "cell_type": "code",
      "metadata": {
        "id": "DNZ2DIILCFrP"
      },
      "source": [
        "class GradCam(nn.Module):\n",
        "    def __init__(self,target_layer):\n",
        "        super(GradCam,self).__init__()\n",
        "        self.gradients = None\n",
        "\n",
        "        self.network = network\n",
        "        self.features_bert = self.network.bert\n",
        "        self.features_conv1 = self.network.conv1\n",
        "        #self.features_pool = nn.MaxPool1d(2)     \n",
        "\n",
        "        self.target_conv = self.network.cnn[:target_layer] \n",
        "        self.remain_conv= self.network.cnn[target_layer:]\n",
        "        self.classifier = self.network.classifier\n",
        "        \n",
        "    def activations_hook(self, grad):\n",
        "        self.gradients = grad\n",
        "    \n",
        "    def forward(self,x,masks):\n",
        "        x = self.features_bert(x,masks)[0]\n",
        "        x = x.unsqueeze(1)\n",
        "        x = self.features_conv1(x)\n",
        "        x = x.squeeze(3)\n",
        "        x = self.target_conv(x)\n",
        "        '''\n",
        "            이 layer와 최종 노드 gradient를 계산\n",
        "            gradient가 역전파 과정에서 계산되고 버려지는데 hook을 이용해 잡아둠.\n",
        "            \n",
        "        ''' \n",
        "        h = x.register_hook(self.activations_hook)\n",
        "        #x = self.features_pool(x)\n",
        "        x = self.remain_conv(x)\n",
        "\n",
        "        x = x.view(-1,128*31)\n",
        "        x = self.classifier(x)\n",
        "        return x\n",
        "    \n",
        "    # method for the gradient extraction\n",
        "    def get_activations_gradient(self):\n",
        "        return self.gradients\n",
        "    \n",
        "    # method for the activation exctraction\n",
        "    def get_activations(self, x, masks):\n",
        "        x = self.features_bert(x, masks)[0]\n",
        "        x = x.unsqueeze(1)\n",
        "        x = self.features_conv1(x)\n",
        "        x = x.squeeze(3)\n",
        "        x = self.target_conv(x)\n",
        "        return x"
      ],
      "execution_count": null,
      "outputs": []
    },
    {
      "cell_type": "code",
      "metadata": {
        "id": "g9HeLgRQInf3"
      },
      "source": [
        "grad_cam = GradCam(12).to(device) ## 12번째 conv layer에서 gradient 추출"
      ],
      "execution_count": null,
      "outputs": []
    },
    {
      "cell_type": "code",
      "metadata": {
        "colab": {
          "base_uri": "https://localhost:8080/",
          "height": 1000
        },
        "id": "X4qilIlaLs1D",
        "outputId": "b4fff6b7-a9d2-46dd-eedf-975ccde9e5e6"
      },
      "source": [
        "for i, (inputs, labels, masks, _) in enumerate(val_loader):\n",
        "    sentence = inputs.to(device)\n",
        "    masks = masks.to(device)\n",
        "\n",
        "    sentence = sentence[0].unsqueeze(0)\n",
        "    masks = masks[0].unsqueeze(0)\n",
        "\n",
        "    pred, output = grad_cam(sentence, masks).max(dim=-1) #마지막 class node중, max가져옴.\n",
        "    grad_cam.zero_grad()#역전파값 모두 초기화\n",
        "    pred.backward(retain_graph=True) #역전파 계산. print찍어보면 이미 cahce 다 비웠음.\n",
        "\n",
        "\n",
        "    #register_hook으로 중간 gradient 붙잡아둠.\n",
        "    gradients = grad_cam.get_activations_gradient()\n",
        "    '''\n",
        "        detach() 현재 계산 기록으로 분리됨. 이후에\n",
        "        detach()는 in-place함수가 아니라 requires_grad, grad_fn이 각각 False, None인 \"새로운\" Tensor를 리턴한다!\n",
        "    '''\n",
        "    activations = grad_cam.get_activations(sentence,masks).detach()\n",
        "\n",
        "    #global average pooling : 각 채널별로 평균 구함.\n",
        "    pooled_gradients= torch.mean(gradients, dim=[0, 2])\n",
        "    for k in range(gradients.shape[1]):\n",
        "        activations[:, k, :] *= pooled_gradients[k]\n",
        "\n",
        "    heatmap = torch.mean(activations, dim=1).squeeze()\n",
        "    heatmap = heatmap.view(1,-1).cpu().numpy()\n",
        "    heatmap = cv2.resize(heatmap, dsize=(512,1))\n",
        "    heatmap = np.multiply(heatmap,masks.cpu().numpy())\n",
        "    break\n",
        "\n",
        "pd_df=[]\n",
        "for i,word in enumerate(sentence[0]):\n",
        "    pd_df.append((heatmap[0][i],vocab[word]))\n",
        "pd_df = pd.DataFrame(pd_df)\n",
        "pd_df.columns=[\"value\",\"word\"]\n",
        "\n",
        "plt.figure(figsize=(20,20))\n",
        "plt.title(title_order[labels[0]])\n",
        "ax=sns.barplot(x=\"word\", y=\"value\", data=pd_df)\n",
        "ax.set_xticklabels(ax.get_xticklabels(), rotation=50, ha=\"right\")\n",
        "plt.rcParams[\"xtick.labelsize\"] = 10\n",
        "plt.show()   "
      ],
      "execution_count": null,
      "outputs": [
        {
          "output_type": "stream",
          "name": "stderr",
          "text": [
            "/usr/local/lib/python3.7/dist-packages/torch/nn/functional.py:652: UserWarning: Named tensors and all their associated APIs are an experimental feature and subject to change. Please do not use them for anything important until they are released as stable. (Triggered internally at  /pytorch/c10/core/TensorImpl.h:1156.)\n",
            "  return torch.max_pool1d(input, kernel_size, stride, padding, dilation, ceil_mode)\n"
          ]
        },
        {
          "output_type": "display_data",
          "data": {
            "image/png": "[encoded data removed]",
            "text/plain": [
              "<Figure size 1440x1440 with 1 Axes>"
            ]
          },
          "metadata": {}
        }
      ]
    }
  ]
}